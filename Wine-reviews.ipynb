{
 "cells": [
  {
   "cell_type": "code",
   "execution_count": 187,
   "metadata": {},
   "outputs": [],
   "source": [
    "import os\n",
    "import pandas as pd\n",
    "import numpy as np\n",
    "import matplotlib.pyplot as plt\n",
    "import math\n",
    "import csv"
   ]
  },
  {
   "cell_type": "markdown",
   "metadata": {},
   "source": [
    "# 读取已填充空缺值的数据集Wine-review-130k"
   ]
  },
  {
   "cell_type": "code",
   "execution_count": 188,
   "metadata": {},
   "outputs": [],
   "source": [
    "data = pd.read_csv('E:/mining_frequent_patterns/wine_130k/winemag-data-130k-v3.csv', encoding='utf-8')\n",
    "path = 'E:/mining_frequent_patterns/wine_130k/'\n",
    "if not os.path.exists(path):\n",
    "    os.makedirs(path)"
   ]
  },
  {
   "cell_type": "code",
   "execution_count": 189,
   "metadata": {},
   "outputs": [],
   "source": [
    "def apriori(series, _minSup, _sum):\n",
    "    attr_value = []\n",
    "    attr_freq = []\n",
    "    for values, keys in zip(series.values, series.index):\n",
    "        if values / _sum >= _minSup:\n",
    "            attr_value.append([str(keys)])\n",
    "            \n",
    "            attr_freq.append(values/_sum)\n",
    "        else:\n",
    "            break\n",
    "    return attr_value, attr_freq\n",
    "\n",
    "def find_freq(key_set, _sumSup, _sum):\n",
    "    _node_list = []\n",
    "    _node_freq = []\n",
    "    for _key in key_set:\n",
    "        cnt = 0\n",
    "        for _item in data_list:\n",
    "            has_flag = True\n",
    "            for k in _key:\n",
    "                if k not in _item:\n",
    "                    has_flag = False\n",
    "                    break\n",
    "            if has_flag:\n",
    "                cnt += 1\n",
    "        if cnt / _sum >= _sumSup:\n",
    "            _node_list.append(_key)\n",
    "            _node_freq.append(cnt/_sum)\n",
    "    return _node_list, _node_freq"
   ]
  },
  {
   "cell_type": "markdown",
   "metadata": {},
   "source": [
    "# 把pandas数据转化为列表形式，便于关联规则挖掘"
   ]
  },
  {
   "cell_type": "code",
   "execution_count": 190,
   "metadata": {},
   "outputs": [],
   "source": [
    "data_list = data.values.tolist()\n",
    "data_sum = len(data_list)\n",
    "candidate_node = []\n",
    "candidate_freq = []\n",
    "all_keys = []\n",
    "all_freq = []\n",
    "minSup = 0.05"
   ]
  },
  {
   "cell_type": "markdown",
   "metadata": {},
   "source": [
    "# 找出频繁项集"
   ]
  },
  {
   "cell_type": "markdown",
   "metadata": {},
   "source": [
    "## 得到频繁一项集"
   ]
  },
  {
   "cell_type": "code",
   "execution_count": 191,
   "metadata": {},
   "outputs": [
    {
     "name": "stdout",
     "output_type": "stream",
     "text": [
      "1  iterm frequent pattern: 28  frequent pattern has been found\n"
     ]
    }
   ],
   "source": [
    "K = 0\n",
    "_candidate_node, _candidate_node_freq = apriori(data['country'].value_counts(sort=True), minSup, data_sum)\n",
    "if len(_candidate_node):\n",
    "    K += 1\n",
    "all_keys = all_keys + _candidate_node\n",
    "all_freq = all_freq + _candidate_node_freq\n",
    "candidate_node = candidate_node + _candidate_node\n",
    "candidate_freq = candidate_freq + _candidate_node_freq\n",
    "\n",
    "_candidate_node, _candidate_node_freq = apriori(data['points'].value_counts(sort=True), minSup, data_sum)\n",
    "if len(_candidate_node):\n",
    "    K += 1\n",
    "all_keys = all_keys + _candidate_node\n",
    "all_freq = all_freq + _candidate_node_freq\n",
    "candidate_node = candidate_node + _candidate_node\n",
    "candidate_freq = candidate_freq + _candidate_node_freq\n",
    "\n",
    "_candidate_node, _candidate_node_freq = apriori(data['price'].value_counts(sort=True), minSup, data_sum)\n",
    "if len(_candidate_node):\n",
    "    K += 1\n",
    "all_keys = all_keys + _candidate_node\n",
    "all_freq = all_freq + _candidate_node_freq\n",
    "candidate_node = candidate_node + _candidate_node\n",
    "candidate_freq = candidate_freq + _candidate_node_freq\n",
    "\n",
    "_candidate_node, _candidate_node_freq = apriori(data['province'].value_counts(sort=True), minSup, data_sum)\n",
    "if len(_candidate_node):\n",
    "    K += 1\n",
    "all_keys = all_keys + _candidate_node\n",
    "all_freq = all_freq + _candidate_node_freq\n",
    "candidate_node = candidate_node + _candidate_node\n",
    "candidate_freq = candidate_freq + _candidate_node_freq\n",
    "\n",
    "_candidate_node, _candidate_node_freq = apriori(data['region_1'].value_counts(sort=True), minSup, data_sum)\n",
    "if len(_candidate_node):\n",
    "    K += 1\n",
    "all_keys = all_keys + _candidate_node\n",
    "all_freq = all_freq + _candidate_node_freq\n",
    "candidate_node = candidate_node + _candidate_node\n",
    "candidate_freq = candidate_freq + _candidate_node_freq\n",
    "\n",
    "_candidate_node, _candidate_node_freq = apriori(data['taster_name'].value_counts(sort=True), minSup, data_sum)\n",
    "if len(_candidate_node):\n",
    "    K += 1\n",
    "all_keys = all_keys + _candidate_node\n",
    "all_freq = all_freq + _candidate_node_freq\n",
    "candidate_node = candidate_node + _candidate_node\n",
    "candidate_freq = candidate_freq + _candidate_node_freq\n",
    "\n",
    "_candidate_node, _candidate_node_freq = apriori(data['variety'].value_counts(sort=True), minSup, data_sum)\n",
    "if len(_candidate_node):\n",
    "    K += 1\n",
    "all_keys = all_keys + _candidate_node\n",
    "all_freq = all_freq + _candidate_node_freq\n",
    "candidate_node = candidate_node + _candidate_node\n",
    "candidate_freq = candidate_freq + _candidate_node_freq\n",
    "\n",
    "_candidate_node, _candidate_node_freq = apriori(data['winery'].value_counts(sort=True), minSup, data_sum)\n",
    "if len(_candidate_node):\n",
    "    K += 1\n",
    "all_keys = all_keys + _candidate_node\n",
    "all_freq = all_freq + _candidate_node_freq\n",
    "candidate_node = candidate_node + _candidate_node\n",
    "candidate_freq = candidate_freq + _candidate_node_freq\n",
    "k=1\n",
    "print(k, ' iterm frequent pattern:', len(candidate_node), ' frequent pattern has been found')"
   ]
  },
  {
   "cell_type": "markdown",
   "metadata": {},
   "source": [
    "## 使用迭代的方法求频繁k+1项集"
   ]
  },
  {
   "cell_type": "code",
   "execution_count": 192,
   "metadata": {},
   "outputs": [
    {
     "name": "stdout",
     "output_type": "stream",
     "text": [
      "2  item frequent pattern: 378  candidate pattern has been found\n",
      "2  iterm frequent pattern: 16  frequent pattern has been found\n",
      "3  item frequent pattern: 42  candidate pattern has been found\n",
      "3  iterm frequent pattern: 4  frequent pattern has been found\n",
      "4  item frequent pattern: 6  candidate pattern has been found\n",
      "4  iterm frequent pattern: 0  frequent pattern has been found\n"
     ]
    }
   ],
   "source": [
    "key_set = []\n",
    "while len(candidate_node) and k < K:\n",
    "    for i in range(len(candidate_node)):\n",
    "        for j in range(len(candidate_node)):\n",
    "            if i >=j:\n",
    "                continue\n",
    "            k_plus_1_node = list(set(candidate_node[i]+candidate_node[j]))\n",
    "            k_plus_1_node.sort()\n",
    "            if len(k_plus_1_node) == k+1 and k_plus_1_node not in key_set:  \n",
    "                key_set.append(k_plus_1_node)\n",
    "    k += 1\n",
    "    print(k, ' item frequent pattern:', len(key_set),  ' candidate pattern has been found')\n",
    "    _candidate_node, _candidate_node_freq = find_freq(key_set, minSup, data_sum)\n",
    "    print(k, ' iterm frequent pattern:', len(_candidate_node), ' frequent pattern has been found')\n",
    "    key_set = []\n",
    "    all_keys = all_keys + _candidate_node\n",
    "    all_freq = all_freq + _candidate_node_freq\n",
    "    candidate_node = _candidate_node"
   ]
  },
  {
   "cell_type": "markdown",
   "metadata": {},
   "source": [
    "输出所有查找到的频繁项集，并把结果保存在csv文件中"
   ]
  },
  {
   "cell_type": "code",
   "execution_count": 193,
   "metadata": {},
   "outputs": [
    {
     "name": "stdout",
     "output_type": "stream",
     "text": [
      "All frequent patterns\n",
      "E:/mining_frequent_patterns/wine_130k/all_frequent_patterns.csv\n",
      "['US'] 0.4195320494571866\n",
      "['France'] 0.17003023751452248\n",
      "['Italy'] 0.15041047618314854\n",
      "['Spain'] 0.05114987189449954\n",
      "['88'] 0.13239107185449062\n",
      "['87'] 0.13028290926437436\n",
      "['90'] 0.11856491063391064\n",
      "['86'] 0.09694470304914173\n",
      "['89'] 0.09406713805387355\n",
      "['91'] 0.08739641920120643\n",
      "['92'] 0.07396265320725393\n",
      "['85'] 0.07332404921097783\n",
      "['20.0'] 0.057835978795269714\n",
      "['15.0'] 0.05079594678812966\n",
      "['California'] 0.2790776403967039\n",
      "['Washington'] 0.06646867378107424\n",
      "['Roger Voss'] 0.19866739503427688\n",
      "['Kerin O’Keefe'] 0.1453016442129398\n",
      "['Virginie Boone'] 0.1423394449531049\n",
      "['Michael Schachner'] 0.11875726123519863\n",
      "['Matt Kettmann'] 0.08411107093120773\n",
      "['Paul Gregutt'] 0.07568611459479423\n",
      "['Jim Gordon'] 0.05186541613129082\n",
      "['Pinot Noir'] 0.10211508721176263\n",
      "['Chardonnay'] 0.09042786467750498\n",
      "['Cabernet Sauvignon'] 0.07287779581598972\n",
      "['Red Blend'] 0.06883073916489063\n",
      "['Bordeaux-style Red Blend'] 0.05320417631625517\n",
      "['California', 'US'] 0.27903917027644626\n",
      "['US', 'Washington'] 0.06652253194943487\n",
      "['US', 'Virginie Boone'] 0.1420855421594048\n",
      "['Matt Kettmann', 'US'] 0.08399566057043495\n",
      "['Paul Gregutt', 'US'] 0.07360103407683252\n",
      "['Jim Gordon', 'US'] 0.05171922967431196\n",
      "['Pinot Noir', 'US'] 0.07630933054296728\n",
      "['Chardonnay', 'US'] 0.05237322171869109\n",
      "['Cabernet Sauvignon', 'US'] 0.0563048680090174\n",
      "['France', 'Roger Voss'] 0.1445322418077879\n",
      "['Italy', 'Kerin O’Keefe'] 0.1452554800686307\n",
      "['Michael Schachner', 'Spain'] 0.05124989420716929\n",
      "['California', 'Virginie Boone'] 0.14133922182640743\n",
      "['California', 'Matt Kettmann'] 0.08358018327165291\n",
      "['California', 'Jim Gordon'] 0.05135761054389056\n",
      "['California', 'Pinot Noir'] 0.053288810580821876\n",
      "['California', 'US', 'Virginie Boone'] 0.14133922182640743\n",
      "['California', 'Matt Kettmann', 'US'] 0.08357248924760138\n",
      "['California', 'Jim Gordon', 'US'] 0.05134222249578752\n",
      "['California', 'Pinot Noir', 'US'] 0.05310415400358542\n"
     ]
    }
   ],
   "source": [
    "print('All frequent patterns')\n",
    "\n",
    "file_name = path+'all_frequent_patterns.csv'\n",
    "print(file_name)\n",
    "\n",
    "if os.path.exists(file_name):\n",
    "    f = open(path+'all_frequent_patterns.csv', 'w', newline='')\n",
    "else:\n",
    "    f = open(path+'all_frequent_patterns.csv', 'a', newline='')\n",
    "csv_writer = csv.writer(f)\n",
    "csv_writer.writerow(['pattern', 'frequency'])\n",
    "for _keys, _freq in zip(all_keys, all_freq):\n",
    "    print(_keys, _freq)\n",
    "    csv_writer.writerow([_keys, _freq])\n",
    "f.close()\n",
    "    "
   ]
  },
  {
   "cell_type": "markdown",
   "metadata": {},
   "source": [
    "# 导出关联规则到wine_130k/association.csv，并计算支持度和置信度"
   ]
  },
  {
   "cell_type": "code",
   "execution_count": 194,
   "metadata": {},
   "outputs": [
    {
     "name": "stdout",
     "output_type": "stream",
     "text": [
      "E:/mining_frequent_patterns/wine_130k/association.csv\n",
      "['California'] --> ['US'] , confidence is  0.9998621526246139 , support is  0.27903917027644626\n",
      "['US'] --> ['California'] , confidence is  0.6651200322775872 , support is  0.27903917027644626\n",
      "['US'] --> ['Washington'] , confidence is  0.15856364736735928 , support is  0.06652253194943487\n",
      "['Washington'] --> ['US'] , confidence is  1.000810278967473 , support is  0.06652253194943487\n",
      "['US'] --> ['Virginie Boone'] , confidence is  0.3386762521319714 , support is  0.1420855421594048\n",
      "['Virginie Boone'] --> ['US'] , confidence is  0.9982162162162164 , support is  0.1420855421594048\n",
      "['Matt Kettmann'] --> ['US'] , confidence is  0.9986278814489572 , support is  0.08399566057043495\n",
      "['US'] --> ['Matt Kettmann'] , confidence is  0.200212738643241 , support is  0.08399566057043495\n",
      "['Paul Gregutt'] --> ['US'] , confidence is  0.9724509504930364 , support is  0.07360103407683252\n",
      "['US'] --> ['Paul Gregutt'] , confidence is  0.17543602252095292 , support is  0.07360103407683252\n",
      "['Jim Gordon'] --> ['US'] , confidence is  0.9971814270879692 , support is  0.05171922967431196\n",
      "['US'] --> ['Jim Gordon'] , confidence is  0.12327837585049609 , support is  0.05171922967431196\n",
      "['Pinot Noir'] --> ['US'] , confidence is  0.7472875226039782 , support is  0.07630933054296728\n",
      "['US'] --> ['Pinot Noir'] , confidence is  0.18189153997102353 , support is  0.07630933054296728\n",
      "['Chardonnay'] --> ['US'] , confidence is  0.5791712754190419 , support is  0.05237322171869109\n",
      "['US'] --> ['Chardonnay'] , confidence is  0.12483723659838246 , support is  0.05237322171869109\n",
      "['Cabernet Sauvignon'] --> ['US'] , confidence is  0.7725929054054055 , support is  0.0563048680090174\n",
      "['US'] --> ['Cabernet Sauvignon'] , confidence is  0.1342087406239111 , support is  0.0563048680090174\n",
      "['France'] --> ['Roger Voss'] , confidence is  0.8500384632788813 , support is  0.1445322418077879\n",
      "['Roger Voss'] --> ['France'] , confidence is  0.7275086170171566 , support is  0.1445322418077879\n",
      "['Italy'] --> ['Kerin O’Keefe'] , confidence is  0.9657271471686533 , support is  0.1452554800686307\n",
      "['Kerin O’Keefe'] --> ['Italy'] , confidence is  0.9996822875297856 , support is  0.1452554800686307\n",
      "['Michael Schachner'] --> ['Spain'] , confidence is  0.43155166828636216 , support is  0.05124989420716929\n",
      "['Spain'] --> ['Michael Schachner'] , confidence is  1.0019554753309265 , support is  0.05124989420716929\n",
      "['California'] --> ['Virginie Boone'] , confidence is  0.5064512571680635 , support is  0.14133922182640743\n",
      "['Virginie Boone'] --> ['California'] , confidence is  0.992972972972973 , support is  0.14133922182640743\n",
      "['California'] --> ['Matt Kettmann'] , confidence is  0.2994872077635642 , support is  0.08358018327165291\n",
      "['Matt Kettmann'] --> ['California'] , confidence is  0.993688254665203 , support is  0.08358018327165291\n",
      "['California'] --> ['Jim Gordon'] , confidence is  0.1840262461402735 , support is  0.05135761054389056\n",
      "['Jim Gordon'] --> ['California'] , confidence is  0.9902091677792614 , support is  0.05135761054389056\n",
      "['California'] --> ['Pinot Noir'] , confidence is  0.1909461843846493 , support is  0.053288810580821876\n",
      "['Pinot Noir'] --> ['California'] , confidence is  0.5218505123568414 , support is  0.053288810580821876\n",
      "['California'] --> ['US', 'Virginie Boone'] , confidence is  0.5064512571680635 , support is  0.14133922182640743\n",
      "['US'] --> ['California', 'Virginie Boone'] , confidence is  0.33689731692555985 , support is  0.14133922182640743\n",
      "['Virginie Boone'] --> ['California', 'US'] , confidence is  0.992972972972973 , support is  0.14133922182640743\n",
      "['California'] --> ['Matt Kettmann', 'US'] , confidence is  0.29945963828848693 , support is  0.08357248924760138\n",
      "['Matt Kettmann'] --> ['California', 'US'] , confidence is  0.9935967800951335 , support is  0.08357248924760138\n",
      "['US'] --> ['California', 'Matt Kettmann'] , confidence is  0.19920406404166743 , support is  0.08357248924760138\n",
      "['California'] --> ['Jim Gordon', 'US'] , confidence is  0.18397110719011908 , support is  0.05134222249578752\n",
      "['Jim Gordon'] --> ['California', 'US'] , confidence is  0.9899124758937844 , support is  0.05134222249578752\n",
      "['US'] --> ['California', 'Jim Gordon'] , confidence is  0.12237973847818512 , support is  0.05134222249578752\n",
      "['California'] --> ['Pinot Noir', 'US'] , confidence is  0.19028451698279664 , support is  0.05310415400358542\n",
      "['Pinot Noir'] --> ['California', 'US'] , confidence is  0.520042194092827 , support is  0.05310415400358542\n",
      "['US'] --> ['California', 'Pinot Noir'] , confidence is  0.1265794927283731 , support is  0.05310415400358542\n"
     ]
    }
   ],
   "source": [
    "import copy\n",
    "wine_dict = {}\n",
    "file_name = path+'association.csv'\n",
    "print(file_name)\n",
    "confidence_list = []\n",
    "association_list = []\n",
    "support_list = []\n",
    "if os.path.exists(file_name):\n",
    "    f = open(path+'association.csv', 'w', newline='')\n",
    "else:\n",
    "    f = open(path+'association.csv', 'a', newline='')\n",
    "csv_writer = csv.writer(f)\n",
    "csv_writer.writerow(['key1', 'key2', 'confidence', 'support' ])\n",
    "for _keys, _freq in zip(all_keys, all_freq):\n",
    "    wine_dict[str(_keys)] = _freq\n",
    "    if len(_keys) == 1:\n",
    "        continue\n",
    "    for i in range(len(_keys)):\n",
    "        tmp_list = copy.deepcopy(_keys)\n",
    "        key1 = [_keys[i]]\n",
    "        tmp_list.remove(_keys[i])\n",
    "        key2 = tmp_list\n",
    "        if str(key1)+'-->'+str(key2) in association_list:\n",
    "            continue\n",
    "        confidence1 = _freq / wine_dict[str(key1)]\n",
    "        print(key1, '-->', key2, ', confidence is ', confidence1, ', support is ', _freq)\n",
    "        confidence_list.append(confidence1)\n",
    "        association_list.append(str(key1)+'-->'+str(key2))\n",
    "        support_list.append(_freq)\n",
    "        csv_writer.writerow([key1, key2, confidence1,  _freq])\n",
    "f.close()"
   ]
  },
  {
   "cell_type": "markdown",
   "metadata": {},
   "source": [
    "# 对规则进行评价和分析"
   ]
  },
  {
   "cell_type": "markdown",
   "metadata": {},
   "source": [
    "## 使用Lift规则对关联关系进行评价和分析 "
   ]
  },
  {
   "cell_type": "markdown",
   "metadata": {},
   "source": [
    "结果保存在fig_130k/evaluation.csv中"
   ]
  },
  {
   "cell_type": "code",
   "execution_count": 195,
   "metadata": {},
   "outputs": [
    {
     "name": "stdout",
     "output_type": "stream",
     "text": [
      "E:/mining_frequent_patterns/wine_130k/evaluation.csv\n",
      "['California'] --> ['US'] , lift is  2.3832795466241254\n",
      "['US'] --> ['California'] , lift is  2.3832795466241254\n",
      "['US'] --> ['Washington'] , lift is  2.3855395082744595\n",
      "['Washington'] --> ['US'] , lift is  2.3855395082744595\n",
      "['US'] --> ['Virginie Boone'] , lift is  2.3793562792348357\n",
      "['Virginie Boone'] --> ['US'] , lift is  2.3793562792348353\n",
      "['Matt Kettmann'] --> ['US'] , lift is  2.380337527826626\n",
      "['US'] --> ['Matt Kettmann'] , lift is  2.380337527826626\n",
      "['Paul Gregutt'] --> ['US'] , lift is  2.3179419826238457\n",
      "['US'] --> ['Paul Gregutt'] , lift is  2.3179419826238457\n",
      "['Jim Gordon'] --> ['US'] , lift is  2.376889747465484\n",
      "['US'] --> ['Jim Gordon'] , lift is  2.376889747465484\n",
      "['Pinot Noir'] --> ['US'] , lift is  1.7812406074121383\n",
      "['US'] --> ['Pinot Noir'] , lift is  1.7812406074121383\n",
      "['Chardonnay'] --> ['US'] , lift is  1.3805173553925265\n",
      "['US'] --> ['Chardonnay'] , lift is  1.3805173553925267\n",
      "['Cabernet Sauvignon'] --> ['US'] , lift is  1.8415587233562447\n",
      "['US'] --> ['Cabernet Sauvignon'] , lift is  1.841558723356245\n",
      "['France'] --> ['Roger Voss'] , lift is  4.278701410124297\n",
      "['Roger Voss'] --> ['France'] , lift is  4.278701410124298\n",
      "['Italy'] --> ['Kerin O’Keefe'] , lift is  6.646360764874611\n",
      "['Kerin O’Keefe'] --> ['Italy'] , lift is  6.646360764874611\n",
      "['Michael Schachner'] --> ['Spain'] , lift is  8.43700389272665\n",
      "['Spain'] --> ['Michael Schachner'] , lift is  8.43700389272665\n",
      "['California'] --> ['Virginie Boone'] , lift is  3.5580527754265074\n",
      "['Virginie Boone'] --> ['California'] , lift is  3.558052775426507\n",
      "['California'] --> ['Matt Kettmann'] , lift is  3.560615795850549\n",
      "['Matt Kettmann'] --> ['California'] , lift is  3.5606157958505484\n",
      "['California'] --> ['Jim Gordon'] , lift is  3.548149419536788\n",
      "['Jim Gordon'] --> ['California'] , lift is  3.548149419536788\n",
      "['California'] --> ['Pinot Noir'] , lift is  1.8699115830814688\n",
      "['Pinot Noir'] --> ['California'] , lift is  1.8699115830814688\n",
      "['California'] --> ['US', 'Virginie Boone'] , lift is  3.5644109138133087\n",
      "['US'] --> ['California', 'Virginie Boone'] , lift is  2.3836081207475197\n",
      "['Virginie Boone'] --> ['California', 'US'] , lift is  3.558543311282165\n",
      "['California'] --> ['Matt Kettmann', 'US'] , lift is  3.5651798706597906\n",
      "['Matt Kettmann'] --> ['California', 'US'] , lift is  3.560778865242358\n",
      "['US'] --> ['California', 'Matt Kettmann'] , lift is  2.383388696268025\n",
      "['California'] --> ['Jim Gordon', 'US'] , lift is  3.55711228393439\n",
      "['Jim Gordon'] --> ['California', 'US'] , lift is  3.5475753275537283\n",
      "['US'] --> ['California', 'Jim Gordon'] , lift is  2.382893931048419\n",
      "['California'] --> ['Pinot Noir', 'US'] , lift is  2.493594369507064\n",
      "['Pinot Noir'] --> ['California', 'US'] , lift is  1.8636888633865174\n",
      "['US'] --> ['California', 'Pinot Noir'] , lift is  2.375348433352495\n"
     ]
    }
   ],
   "source": [
    "file_name = path+'evaluation.csv'\n",
    "print(file_name)\n",
    "if os.path.exists(file_name):\n",
    "    f = open(path+'evaluation.csv', 'w', newline='')\n",
    "else:\n",
    "    f = open(path+'evaluation.csv', 'a', newline='')\n",
    "csv_writer = csv.writer(f)\n",
    "csv_writer.writerow(['Lift evaluation'])\n",
    "csv_writer.writerow(['key1', 'key2', 'lift' ])\n",
    "lift_list = []\n",
    "lift_name = []\n",
    "for _keys, _freq in zip(all_keys, all_freq):\n",
    "    if len(_keys) == 1:\n",
    "        continue\n",
    "    for i in range(len(_keys)):\n",
    "        tmp_list = copy.deepcopy(_keys)\n",
    "        key1 = [_keys[i]]\n",
    "        tmp_list.remove(_keys[i])\n",
    "        tmp_list.sort()\n",
    "        key2 = tmp_list\n",
    "        if str(key1)+\"-->\"+str(key2) in lift_name:\n",
    "            continue\n",
    "        lift = _freq / wine_dict[str(key1)] / wine_dict[str(key2)]  \n",
    "        print(key1, '-->', key2, ', lift is ', lift)\n",
    "        lift_name.append(str(key1)+\"-->\"+str(key2))\n",
    "        lift_list.append(lift)\n",
    "        csv_writer.writerow([str(key1)+\"-->\"+str(key2), lift])"
   ]
  },
  {
   "cell_type": "code",
   "execution_count": 196,
   "metadata": {},
   "outputs": [
    {
     "name": "stdout",
     "output_type": "stream",
     "text": [
      "['Spain']-->['Michael Schachner']  lift is  8.43700389272665\n",
      "['Michael Schachner']-->['Spain']  lift is  8.43700389272665\n",
      "['Kerin O’Keefe']-->['Italy']  lift is  6.646360764874611\n",
      "['Italy']-->['Kerin O’Keefe']  lift is  6.646360764874611\n",
      "['Roger Voss']-->['France']  lift is  4.278701410124298\n",
      "['France']-->['Roger Voss']  lift is  4.278701410124297\n"
     ]
    }
   ],
   "source": [
    "indexes = np.argsort(lift_list)\n",
    "indexes = list(reversed(indexes))\n",
    "for i in range(6):\n",
    "    _index = indexes[i]\n",
    "    print(lift_name[_index], ' lift is ', lift_list[_index])"
   ]
  },
  {
   "cell_type": "markdown",
   "metadata": {},
   "source": [
    "输出前6位的关联关系，可以看出，\n",
    "\n",
    "['Spain', 'Michael Schachner'] \n",
    "\n",
    "['Italy', 'Kerin O’Keefe']\n",
    "\n",
    "['France', 'Roger Voss'] \n",
    "\n",
    "这3条记录的lift值较高，分别是8.4，6.6，4.3。\n",
    "这三条记录都是country和taster_name之间的关联关系，可以分析出，也许Michael Schachner是西班牙人，所以他能更方便的喝到西班牙产出的葡萄酒，所以Michael Schachner和Spain的关联程度高。也可能是因为Michael Schachner对于西班牙产出的就有偏好，或者是较为了解，所以对于西班牙产出的葡萄酒评价的更多。"
   ]
  },
  {
   "cell_type": "markdown",
   "metadata": {},
   "source": [
    "## 使用Cosine规则对关联关系进行评价和分析"
   ]
  },
  {
   "cell_type": "markdown",
   "metadata": {},
   "source": [
    "结果保存在fig_130k/evaluation.csv中"
   ]
  },
  {
   "cell_type": "code",
   "execution_count": 197,
   "metadata": {},
   "outputs": [
    {
     "name": "stdout",
     "output_type": "stream",
     "text": [
      "['California'] --> ['US'] , cosine is  0.8154927021297131\n",
      "['US'] --> ['California'] , cosine is  0.8154927021297131\n",
      "['US'] --> ['Washington'] , cosine is  0.39836180559364237\n",
      "['Washington'] --> ['US'] , cosine is  0.39836180559364237\n",
      "['US'] --> ['Virginie Boone'] , cosine is  0.5814397018827195\n",
      "['Virginie Boone'] --> ['US'] , cosine is  0.5814397018827195\n",
      "['Matt Kettmann'] --> ['US'] , cosine is  0.4471442977724232\n",
      "['US'] --> ['Matt Kettmann'] , cosine is  0.4471442977724232\n",
      "['Paul Gregutt'] --> ['US'] , cosine is  0.41304107162753007\n",
      "['US'] --> ['Paul Gregutt'] , cosine is  0.41304107162753007\n",
      "['Jim Gordon'] --> ['US'] , cosine is  0.35061504069233074\n",
      "['US'] --> ['Jim Gordon'] , cosine is  0.35061504069233074\n",
      "['Pinot Noir'] --> ['US'] , cosine is  0.36868045552696266\n",
      "['US'] --> ['Pinot Noir'] , cosine is  0.36868045552696266\n",
      "['Chardonnay'] --> ['US'] , cosine is  0.2688905754028465\n",
      "['US'] --> ['Chardonnay'] , cosine is  0.2688905754028465\n",
      "['Cabernet Sauvignon'] --> ['US'] , cosine is  0.3220073304280944\n",
      "['US'] --> ['Cabernet Sauvignon'] , cosine is  0.3220073304280944\n",
      "['France'] --> ['Roger Voss'] , cosine is  0.7863906833320243\n",
      "['Roger Voss'] --> ['France'] , cosine is  0.7863906833320243\n",
      "['Italy'] --> ['Kerin O’Keefe'] , cosine is  0.9825580510133604\n",
      "['Kerin O’Keefe'] --> ['Italy'] , cosine is  0.9825580510133604\n",
      "['Michael Schachner'] --> ['Spain'] , cosine is  0.6575679105063722\n",
      "['Spain'] --> ['Michael Schachner'] , cosine is  0.6575679105063722\n",
      "['California'] --> ['Virginie Boone'] , cosine is  0.7091490749455094\n",
      "['Virginie Boone'] --> ['California'] , cosine is  0.7091490749455094\n",
      "['California'] --> ['Matt Kettmann'] , cosine is  0.545524445627445\n",
      "['Matt Kettmann'] --> ['California'] , cosine is  0.545524445627445\n",
      "['California'] --> ['Jim Gordon'] , cosine is  0.42687758905815343\n",
      "['Jim Gordon'] --> ['California'] , cosine is  0.42687758905815343\n",
      "['California'] --> ['Pinot Noir'] , cosine is  0.3156665394901923\n",
      "['Pinot Noir'] --> ['California'] , cosine is  0.3156665394901923\n",
      "['California'] --> ['US', 'Virginie Boone'] , cosine is  0.7097824066768117\n",
      "['US'] --> ['California', 'Virginie Boone'] , cosine is  0.5804285631544677\n",
      "['Virginie Boone'] --> ['California', 'US'] , cosine is  0.7091979571686515\n",
      "['California'] --> ['Matt Kettmann', 'US'] , cosine is  0.5458488402538566\n",
      "['Matt Kettmann'] --> ['California', 'US'] , cosine is  0.5455118270290327\n",
      "['US'] --> ['California', 'Matt Kettmann'] , cosine is  0.4463022811858731\n",
      "['California'] --> ['Jim Gordon', 'US'] , cosine is  0.4273523725501689\n",
      "['Jim Gordon'] --> ['California', 'US'] , cosine is  0.42677910186398516\n",
      "['US'] --> ['California', 'Jim Gordon'] , cosine is  0.3497757430007829\n",
      "['California'] --> ['Pinot Noir', 'US'] , cosine is  0.36389589090944213\n",
      "['Pinot Noir'] --> ['California', 'US'] , cosine is  0.3145943744189407\n",
      "['US'] --> ['California', 'Pinot Noir'] , cosine is  0.3551631583046393\n"
     ]
    }
   ],
   "source": [
    "csv_writer.writerow(['Cosine evaluation'])\n",
    "csv_writer.writerow(['key1', 'key2', 'cosine' ])\n",
    "cos_list = []\n",
    "cos_name = []\n",
    "for _keys, _freq in zip(all_keys, all_freq):\n",
    "    if len(_keys) == 1:\n",
    "        continue\n",
    "    for i in range(len(_keys)):\n",
    "        tmp_list = copy.deepcopy(_keys)\n",
    "        key1 = [_keys[i]]\n",
    "        tmp_list.remove(_keys[i])\n",
    "        tmp_list.sort()\n",
    "        key2 = tmp_list\n",
    "        if str(key1)+\"-->\"+str(key2) in cos_name:\n",
    "            continue\n",
    "        cos = _freq / np.sqrt(wine_dict[str(key1)]*wine_dict[str(key2)])  \n",
    "        print(key1, '-->', key2, ', cosine is ', cos)\n",
    "        cos_name.append(str(key1)+\"-->\"+str(key2))\n",
    "        cos_list.append(cos)\n",
    "        csv_writer.writerow([str(key1)+\"-->\"+str(key2), cos])\n",
    "f.close()"
   ]
  },
  {
   "cell_type": "code",
   "execution_count": 198,
   "metadata": {},
   "outputs": [
    {
     "name": "stdout",
     "output_type": "stream",
     "text": [
      "['Kerin O’Keefe']-->['Italy']  cosine is  0.9825580510133604\n",
      "['Italy']-->['Kerin O’Keefe']  cosine is  0.9825580510133604\n",
      "['US']-->['California']  cosine is  0.8154927021297131\n",
      "['California']-->['US']  cosine is  0.8154927021297131\n",
      "['Roger Voss']-->['France']  cosine is  0.7863906833320243\n",
      "['France']-->['Roger Voss']  cosine is  0.7863906833320243\n"
     ]
    }
   ],
   "source": [
    "indexes = np.argsort(cos_list)\n",
    "indexes = list(reversed(indexes))\n",
    "for i in range(6):\n",
    "    _index = indexes[i]\n",
    "    print(cos_name[_index], ' cosine is ', cos_list[_index])"
   ]
  },
  {
   "cell_type": "markdown",
   "metadata": {},
   "source": [
    "输出前6位的关联关系，可以看出，\n",
    "前6位的关联关系分别为：\n",
    "['Italy']-->['Kerin O’Keefe']\n",
    "['Kerin O’Keefe']-->['Italy']\n",
    "['US']-->['California']\n",
    "['California']-->['US']\n",
    "['France']-->['Roger Voss']\n",
    "['Roger Voss']-->['France']\n",
    "这6条关联关系的cosine值较高，分别是0.98, 0.98, 0.82, 0.82, 0.79, 0.79。可以看出，除了葡萄酒的产地和taster_name之间的关系，还有country和province之间的关系。比如对于关联关系['US']-->['California']，可以推断出，大部分来自美国的酒都产于California省。"
   ]
  },
  {
   "cell_type": "markdown",
   "metadata": {},
   "source": [
    "# 可视化展示 "
   ]
  },
  {
   "cell_type": "code",
   "execution_count": 201,
   "metadata": {},
   "outputs": [
    {
     "data": {
      "image/png": "[encoded data removed]",
      "text/plain": [
       "<Figure size 432x288 with 2 Axes>"
      ]
     },
     "metadata": {
      "needs_background": "light"
     },
     "output_type": "display_data"
    },
    {
     "data": {
      "image/png": "[encoded data removed]",
      "text/plain": [
       "<Figure size 432x288 with 2 Axes>"
      ]
     },
     "metadata": {
      "needs_background": "light"
     },
     "output_type": "display_data"
    },
    {
     "data": {
      "image/png": "[encoded data removed]",
      "text/plain": [
       "<Figure size 432x288 with 2 Axes>"
      ]
     },
     "metadata": {
      "needs_background": "light"
     },
     "output_type": "display_data"
    },
    {
     "data": {
      "image/png": "[encoded data removed]",
      "text/plain": [
       "<Figure size 432x288 with 2 Axes>"
      ]
     },
     "metadata": {
      "needs_background": "light"
     },
     "output_type": "display_data"
    }
   ],
   "source": [
    "def my_plot(_num_data, _title):\n",
    "    plt.clf()\n",
    "    plt.subplot(121)\n",
    "    plt.hist(_num_data, bins=10, density=0, facecolor=\"blue\", edgecolor=\"black\", alpha=0.7)\n",
    "    plt.title('Histogram for '+_title)\n",
    "    plt.grid(axis='y', linestyle='--')\n",
    "    plt.tight_layout()\n",
    "    \n",
    "    plt.subplot(122)\n",
    "    plt.boxplot(_num_data, notch=False, sym='o', vert=True)\n",
    "    plt.title('Box for '+_title)\n",
    "    plt.grid(axis='y', linestyle='--')\n",
    "    plt.tight_layout()\n",
    "    plt.show()\n",
    "#     plt.savefig(path + _title + '.jpg')\n",
    "my_plot(confidence_list, 'confidence')\n",
    "my_plot(support_list, 'support')\n",
    "my_plot(lift_list, 'lift')\n",
    "my_plot(cos_list, 'cosine')"
   ]
  },
  {
   "cell_type": "markdown",
   "metadata": {},
   "source": [
    "# 七、对wine_150k数据集进行可视化"
   ]
  },
  {
   "cell_type": "markdown",
   "metadata": {},
   "source": [
    "因为上文已经对wine_130k数据集进行了详细的分析及可视化，本段不再做重复工作，仅给出wine_150ks数据集的代码及可视化结果"
   ]
  },
  {
   "cell_type": "code",
   "execution_count": 202,
   "metadata": {},
   "outputs": [
    {
     "name": "stdout",
     "output_type": "stream",
     "text": [
      "1  iterm frequent pattern: 22  frequent pattern has been found\n",
      "2  item frequent pattern: 231  candidate pattern has been found\n",
      "2  iterm frequent pattern: 7  frequent pattern has been found\n",
      "3  item frequent pattern: 11  candidate pattern has been found\n",
      "3  iterm frequent pattern: 1  frequent pattern has been found\n",
      "4  item frequent pattern: 0  candidate pattern has been found\n",
      "4  iterm frequent pattern: 0  frequent pattern has been found\n"
     ]
    }
   ],
   "source": [
    "data = pd.read_csv('E:/pycharmProject/data_visualization/fig_150k/similarity/wine-150k-v2.csv', encoding='utf-8')\n",
    "path = 'E:/mining_frequent_patterns/wine_150k/'\n",
    "if not os.path.exists(path):\n",
    "    os.makedirs(path)\n",
    "data_list = data.values.tolist()\n",
    "data_sum = len(data_list)\n",
    "candidate_node = []\n",
    "candidate_freq = []\n",
    "all_keys = []\n",
    "all_freq = []\n",
    "minSup = 0.05\n",
    "K = 0\n",
    "_candidate_node, _candidate_node_freq = apriori(data['country'].value_counts(sort=True), minSup, data_sum)\n",
    "if len(_candidate_node):\n",
    "    K += 1\n",
    "all_keys = all_keys + _candidate_node\n",
    "all_freq = all_freq + _candidate_node_freq\n",
    "candidate_node = candidate_node + _candidate_node\n",
    "candidate_freq = candidate_freq + _candidate_node_freq\n",
    "\n",
    "_candidate_node, _candidate_node_freq = apriori(data['points'].value_counts(sort=True), minSup, data_sum)\n",
    "if len(_candidate_node):\n",
    "    K += 1\n",
    "all_keys = all_keys + _candidate_node\n",
    "all_freq = all_freq + _candidate_node_freq\n",
    "candidate_node = candidate_node + _candidate_node\n",
    "candidate_freq = candidate_freq + _candidate_node_freq\n",
    "\n",
    "_candidate_node, _candidate_node_freq = apriori(data['price'].value_counts(sort=True), minSup, data_sum)\n",
    "if len(_candidate_node):\n",
    "    K += 1\n",
    "all_keys = all_keys + _candidate_node\n",
    "all_freq = all_freq + _candidate_node_freq\n",
    "candidate_node = candidate_node + _candidate_node\n",
    "candidate_freq = candidate_freq + _candidate_node_freq\n",
    "\n",
    "_candidate_node, _candidate_node_freq = apriori(data['province'].value_counts(sort=True), minSup, data_sum)\n",
    "if len(_candidate_node):\n",
    "    K += 1\n",
    "all_keys = all_keys + _candidate_node\n",
    "all_freq = all_freq + _candidate_node_freq\n",
    "candidate_node = candidate_node + _candidate_node\n",
    "candidate_freq = candidate_freq + _candidate_node_freq\n",
    "\n",
    "_candidate_node, _candidate_node_freq = apriori(data['region_1'].value_counts(sort=True), minSup, data_sum)\n",
    "if len(_candidate_node):\n",
    "    K += 1\n",
    "all_keys = all_keys + _candidate_node\n",
    "all_freq = all_freq + _candidate_node_freq\n",
    "candidate_node = candidate_node + _candidate_node\n",
    "candidate_freq = candidate_freq + _candidate_node_freq\n",
    "\n",
    "_candidate_node, _candidate_node_freq = apriori(data['variety'].value_counts(sort=True), minSup, data_sum)\n",
    "if len(_candidate_node):\n",
    "    K += 1\n",
    "all_keys = all_keys + _candidate_node\n",
    "all_freq = all_freq + _candidate_node_freq\n",
    "candidate_node = candidate_node + _candidate_node\n",
    "candidate_freq = candidate_freq + _candidate_node_freq\n",
    "\n",
    "_candidate_node, _candidate_node_freq = apriori(data['winery'].value_counts(sort=True), minSup, data_sum)\n",
    "if len(_candidate_node):\n",
    "    K += 1\n",
    "all_keys = all_keys + _candidate_node\n",
    "all_freq = all_freq + _candidate_node_freq\n",
    "candidate_node = candidate_node + _candidate_node\n",
    "candidate_freq = candidate_freq + _candidate_node_freq\n",
    "k=1\n",
    "print(k, ' iterm frequent pattern:', len(candidate_node), ' frequent pattern has been found')\n",
    "key_set = []\n",
    "while len(candidate_node) and k < K:\n",
    "    for i in range(len(candidate_node)):\n",
    "        for j in range(len(candidate_node)):\n",
    "            if i >=j:\n",
    "                continue\n",
    "            k_plus_1_node = list(set(candidate_node[i]+candidate_node[j]))\n",
    "            k_plus_1_node.sort()\n",
    "            if len(k_plus_1_node) == k+1 and k_plus_1_node not in key_set:  \n",
    "                key_set.append(k_plus_1_node)\n",
    "    k += 1\n",
    "    print(k, ' item frequent pattern:', len(key_set),  ' candidate pattern has been found')\n",
    "    _candidate_node, _candidate_node_freq = find_freq(key_set, minSup, data_sum)\n",
    "    print(k, ' iterm frequent pattern:', len(_candidate_node), ' frequent pattern has been found')\n",
    "    key_set = []\n",
    "    all_keys = all_keys + _candidate_node\n",
    "    all_freq = all_freq + _candidate_node_freq\n",
    "    candidate_node = _candidate_node"
   ]
  },
  {
   "cell_type": "code",
   "execution_count": 203,
   "metadata": {},
   "outputs": [
    {
     "name": "stdout",
     "output_type": "stream",
     "text": [
      "E:/mining_frequent_patterns/wine_150k/all_frequent_patterns.csv\n",
      "['US'] 0.4134366925064599\n",
      "['Italy'] 0.1555621811435765\n",
      "['France'] 0.13978665606572582\n",
      "['Spain'] 0.05478036175710594\n",
      "['87'] 0.137461074670377\n",
      "['88'] 0.1184058835221626\n",
      "['90'] 0.10583051745842444\n",
      "['86'] 0.10318028225004969\n",
      "['89'] 0.08560922281852515\n",
      "['85'] 0.08223017292784734\n",
      "['84'] 0.07094679652819187\n",
      "['91'] 0.06980719538859073\n",
      "['92'] 0.061227058901477505\n",
      "['20.0'] 0.05744384814152256\n",
      "['15.0'] 0.05142781421851189\n",
      "['California'] 0.2948982972238786\n",
      "['Washington'] 0.06459948320413436\n",
      "['Napa Valley'] 0.05185847743987279\n",
      "['Chardonnay'] 0.09595176571920758\n",
      "['Pinot Noir'] 0.09468627840720864\n",
      "['Cabernet Sauvignon'] 0.08480752666799178\n",
      "['Red Blend'] 0.06666666666666667\n",
      "['California', 'US'] 0.294964553104088\n",
      "['US', 'Washington'] 0.06460610879215531\n",
      "['Chardonnay', 'US'] 0.05387928178625853\n",
      "['Pinot Noir', 'US'] 0.06866759424898959\n",
      "['Cabernet Sauvignon', 'US'] 0.06086265156032598\n",
      "['California', 'Pinot Noir'] 0.050957397469025376\n",
      "['Cabernet Sauvignon', 'California'] 0.05020870602265951\n",
      "['California', 'Pinot Noir', 'US'] 0.05067912277214603\n"
     ]
    }
   ],
   "source": [
    "file_name = path+'all_frequent_patterns.csv'\n",
    "print(file_name)\n",
    "\n",
    "if os.path.exists(file_name):\n",
    "    f = open(path+'all_frequent_patterns.csv', 'w', newline='')\n",
    "else:\n",
    "    f = open(path+'all_frequent_patterns.csv', 'a', newline='')\n",
    "csv_writer = csv.writer(f)\n",
    "csv_writer.writerow(['pattern', 'frequency'])\n",
    "for _keys, _freq in zip(all_keys, all_freq):\n",
    "    print(_keys, _freq)\n",
    "    csv_writer.writerow([_keys, _freq])\n",
    "f.close()"
   ]
  },
  {
   "cell_type": "code",
   "execution_count": 204,
   "metadata": {},
   "outputs": [
    {
     "name": "stdout",
     "output_type": "stream",
     "text": [
      "E:/mining_frequent_patterns/wine_150k/association.csv\n",
      "['California'] --> ['US'] , confidence is  1.0002246736615066 , support is  0.294964553104088\n",
      "['US'] --> ['California'] , confidence is  0.7134455128205128 , support is  0.294964553104088\n",
      "['US'] --> ['Washington'] , confidence is  0.15626602564102565 , support is  0.06460610879215531\n",
      "['Washington'] --> ['US'] , confidence is  1.0001025641025643 , support is  0.06460610879215531\n",
      "['Chardonnay'] --> ['US'] , confidence is  0.5615246512912582 , support is  0.05387928178625853\n",
      "['US'] --> ['Chardonnay'] , confidence is  0.13032051282051282 , support is  0.05387928178625853\n",
      "['Pinot Noir'] --> ['US'] , confidence is  0.7252116716814778 , support is  0.06866759424898959\n",
      "['US'] --> ['Pinot Noir'] , confidence is  0.16608974358974357 , support is  0.06866759424898959\n",
      "['Cabernet Sauvignon'] --> ['US'] , confidence is  0.71765625 , support is  0.06086265156032598\n",
      "['US'] --> ['Cabernet Sauvignon'] , confidence is  0.14721153846153848 , support is  0.06086265156032598\n",
      "['California'] --> ['Pinot Noir'] , confidence is  0.17279651306477342 , support is  0.050957397469025376\n",
      "['Pinot Noir'] --> ['California'] , confidence is  0.538170876775593 , support is  0.050957397469025376\n",
      "['Cabernet Sauvignon'] --> ['California'] , confidence is  0.59203125 , support is  0.05020870602265951\n",
      "['California'] --> ['Cabernet Sauvignon'] , confidence is  0.17025770068974816 , support is  0.05020870602265951\n",
      "['California'] --> ['Pinot Noir', 'US'] , confidence is  0.17185288368644544 , support is  0.05067912277214603\n",
      "['Pinot Noir'] --> ['California', 'US'] , confidence is  0.5352319641732559 , support is  0.05067912277214603\n",
      "['US'] --> ['California', 'Pinot Noir'] , confidence is  0.12258012820512822 , support is  0.05067912277214603\n"
     ]
    }
   ],
   "source": [
    "wine_dict = {}\n",
    "file_name = path+'association.csv'\n",
    "print(file_name)\n",
    "confidence_list = []\n",
    "association_list = []\n",
    "support_list = []\n",
    "if os.path.exists(file_name):\n",
    "    f = open(path+'association.csv', 'w', newline='')\n",
    "else:\n",
    "    f = open(path+'association.csv', 'a', newline='')\n",
    "csv_writer = csv.writer(f)\n",
    "csv_writer.writerow(['key1', 'key2', 'confidence', 'support' ])\n",
    "for _keys, _freq in zip(all_keys, all_freq):\n",
    "    wine_dict[str(_keys)] = _freq\n",
    "    if len(_keys) == 1:\n",
    "        continue\n",
    "    for i in range(len(_keys)):\n",
    "        tmp_list = copy.deepcopy(_keys)\n",
    "        key1 = [_keys[i]]\n",
    "        tmp_list.remove(_keys[i])\n",
    "        key2 = tmp_list\n",
    "        if str(key1)+'-->'+str(key2) in association_list:\n",
    "            continue\n",
    "        confidence1 = _freq / wine_dict[str(key1)]\n",
    "        print(key1, '-->', key2, ', confidence is ', confidence1, ', support is ', _freq)\n",
    "        confidence_list.append(confidence1)\n",
    "        association_list.append(str(key1)+'-->'+str(key2))\n",
    "        support_list.append(_freq)\n",
    "        csv_writer.writerow([key1, key2, confidence1,  _freq])\n",
    "f.close()"
   ]
  },
  {
   "cell_type": "code",
   "execution_count": 205,
   "metadata": {},
   "outputs": [
    {
     "name": "stdout",
     "output_type": "stream",
     "text": [
      "E:/mining_frequent_patterns/wine_150k/evaluation.csv\n",
      "['California'] --> ['US'] , lift is  2.419293429418769\n",
      "['US'] --> ['California'] , lift is  2.419293429418769\n",
      "['US'] --> ['Washington'] , lift is  2.4189980769230774\n",
      "['Washington'] --> ['US'] , lift is  2.4189980769230774\n",
      "['Chardonnay'] --> ['US'] , lift is  1.3581877503107307\n",
      "['US'] --> ['Chardonnay'] , lift is  1.3581877503107307\n",
      "['Pinot Noir'] --> ['US'] , lift is  1.7541057308795747\n",
      "['US'] --> ['Pinot Noir'] , lift is  1.7541057308795744\n",
      "['Cabernet Sauvignon'] --> ['US'] , lift is  1.7358310546875\n",
      "['US'] --> ['Cabernet Sauvignon'] , lift is  1.7358310546875002\n",
      "['California'] --> ['Pinot Noir'] , lift is  1.8249372134116753\n",
      "['Pinot Noir'] --> ['California'] , lift is  1.8249372134116755\n",
      "['Cabernet Sauvignon'] --> ['California'] , lift is  2.0075777160237256\n",
      "['California'] --> ['Cabernet Sauvignon'] , lift is  2.007577716023726\n",
      "['California'] --> ['Pinot Noir', 'US'] , lift is  2.502678090968276\n",
      "['Pinot Noir'] --> ['California', 'US'] , lift is  1.814563677366282\n",
      "['US'] --> ['California', 'Pinot Noir'] , lift is  2.405541379534521\n"
     ]
    }
   ],
   "source": [
    "file_name = path+'evaluation.csv'\n",
    "print(file_name)\n",
    "if os.path.exists(file_name):\n",
    "    f = open(path+'evaluation.csv', 'w', newline='')\n",
    "else:\n",
    "    f = open(path+'evaluation.csv', 'a', newline='')\n",
    "csv_writer = csv.writer(f)\n",
    "csv_writer.writerow(['Lift evaluation'])\n",
    "csv_writer.writerow(['key1', 'key2', 'lift' ])\n",
    "lift_list = []\n",
    "lift_name = []\n",
    "for _keys, _freq in zip(all_keys, all_freq):\n",
    "    if len(_keys) == 1:\n",
    "        continue\n",
    "    for i in range(len(_keys)):\n",
    "        tmp_list = copy.deepcopy(_keys)\n",
    "        key1 = [_keys[i]]\n",
    "        tmp_list.remove(_keys[i])\n",
    "        tmp_list.sort()\n",
    "        key2 = tmp_list\n",
    "        if str(key1)+\"-->\"+str(key2) in lift_name:\n",
    "            continue\n",
    "        lift = _freq / wine_dict[str(key1)] / wine_dict[str(key2)]  \n",
    "        print(key1, '-->', key2, ', lift is ', lift)\n",
    "        lift_name.append(str(key1)+\"-->\"+str(key2))\n",
    "        lift_list.append(lift)\n",
    "        csv_writer.writerow([str(key1)+\"-->\"+str(key2), lift])"
   ]
  },
  {
   "cell_type": "code",
   "execution_count": 183,
   "metadata": {},
   "outputs": [
    {
     "name": "stdout",
     "output_type": "stream",
     "text": [
      "['California'] --> ['US'] , cosine is  0.8447519193444687\n",
      "['US'] --> ['California'] , cosine is  0.8447519193444687\n",
      "['US'] --> ['Washington'] , cosine is  0.39532524954233167\n",
      "['Washington'] --> ['US'] , cosine is  0.39532524954233167\n",
      "['Chardonnay'] --> ['US'] , cosine is  0.27051465860029916\n",
      "['US'] --> ['Chardonnay'] , cosine is  0.27051465860029916\n",
      "['Pinot Noir'] --> ['US'] , cosine is  0.3470593905916766\n",
      "['US'] --> ['Pinot Noir'] , cosine is  0.3470593905916766\n",
      "['Cabernet Sauvignon'] --> ['US'] , cosine is  0.32503427611413305\n",
      "['US'] --> ['Cabernet Sauvignon'] , cosine is  0.32503427611413305\n",
      "['California'] --> ['Pinot Noir'] , cosine is  0.3049492596151601\n",
      "['Pinot Noir'] --> ['California'] , cosine is  0.3049492596151601\n",
      "['Cabernet Sauvignon'] --> ['California'] , cosine is  0.3174868176184288\n",
      "['California'] --> ['Cabernet Sauvignon'] , cosine is  0.3174868176184288\n",
      "['California'] --> ['Pinot Noir', 'US'] , cosine is  0.3561369543186179\n",
      "['Pinot Noir'] --> ['California', 'US'] , cosine is  0.3032498893373625\n",
      "['US'] --> ['California', 'Pinot Noir'] , cosine is  0.34915716648367323\n"
     ]
    }
   ],
   "source": [
    "csv_writer.writerow(['Cosine evaluation'])\n",
    "csv_writer.writerow(['key1', 'key2', 'cosine' ])\n",
    "cos_list = []\n",
    "cos_name = []\n",
    "for _keys, _freq in zip(all_keys, all_freq):\n",
    "    if len(_keys) == 1:\n",
    "        continue\n",
    "    for i in range(len(_keys)):\n",
    "        tmp_list = copy.deepcopy(_keys)\n",
    "        key1 = [_keys[i]]\n",
    "        tmp_list.remove(_keys[i])\n",
    "        tmp_list.sort()\n",
    "        key2 = tmp_list\n",
    "        if str(key1)+\"-->\"+str(key2) in cos_name:\n",
    "            continue\n",
    "        cos = _freq / np.sqrt(wine_dict[str(key1)]*wine_dict[str(key2)])  \n",
    "        print(key1, '-->', key2, ', cosine is ', cos)\n",
    "        cos_name.append(str(key1)+\"-->\"+str(key2))\n",
    "        cos_list.append(cos)\n",
    "        csv_writer.writerow([str(key1)+\"-->\"+str(key2), cos])\n",
    "f.close()"
   ]
  },
  {
   "cell_type": "code",
   "execution_count": 208,
   "metadata": {},
   "outputs": [
    {
     "data": {
      "image/png": "[encoded data removed]",
      "text/plain": [
       "<Figure size 432x288 with 2 Axes>"
      ]
     },
     "metadata": {
      "needs_background": "light"
     },
     "output_type": "display_data"
    },
    {
     "data": {
      "image/png": "[encoded data removed]",
      "text/plain": [
       "<Figure size 432x288 with 2 Axes>"
      ]
     },
     "metadata": {
      "needs_background": "light"
     },
     "output_type": "display_data"
    },
    {
     "data": {
      "image/png": "[encoded data removed]",
      "text/plain": [
       "<Figure size 432x288 with 2 Axes>"
      ]
     },
     "metadata": {
      "needs_background": "light"
     },
     "output_type": "display_data"
    },
    {
     "data": {
      "image/png": "[encoded data removed]",
      "text/plain": [
       "<Figure size 432x288 with 2 Axes>"
      ]
     },
     "metadata": {
      "needs_background": "light"
     },
     "output_type": "display_data"
    }
   ],
   "source": [
    "def my_plot1(_num_data, _title):\n",
    "    plt.clf()\n",
    "    plt.subplot(121)\n",
    "    plt.hist(_num_data, bins=10, density=0, facecolor=\"blue\", edgecolor=\"black\", alpha=0.7)\n",
    "    plt.title('Histogram for '+_title)\n",
    "    plt.grid(axis='y', linestyle='--')\n",
    "    plt.tight_layout()\n",
    "    \n",
    "    plt.subplot(122)\n",
    "    plt.boxplot(_num_data, notch=False, sym='o', vert=True)\n",
    "    plt.title('Box for '+_title)\n",
    "    plt.grid(axis='y', linestyle='--')\n",
    "    plt.tight_layout()\n",
    "    plt.show()\n",
    "#     plt.savefig(path + _title + '.jpg')\n",
    "my_plot1(confidence_list, 'confidence')\n",
    "my_plot1(support_list, 'support')\n",
    "my_plot1(lift_list, 'lift')\n",
    "my_plot1(cos_list, 'cosine')"
   ]
  },
  {
   "cell_type": "code",
   "execution_count": null,
   "metadata": {},
   "outputs": [],
   "source": []
  }
 ],
 "metadata": {
  "kernelspec": {
   "display_name": "Python 3",
   "language": "python",
   "name": "python3"
  },
  "language_info": {
   "codemirror_mode": {
    "name": "ipython",
    "version": 3
   },
   "file_extension": ".py",
   "mimetype": "text/x-python",
   "name": "python",
   "nbconvert_exporter": "python",
   "pygments_lexer": "ipython3",
   "version": "3.7.6"
  }
 },
 "nbformat": 4,
 "nbformat_minor": 4
}
