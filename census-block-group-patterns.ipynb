{
 "cells": [
  {
   "cell_type": "code",
   "execution_count": 3,
   "metadata": {},
   "outputs": [],
   "source": [
    "import os\n",
    "import pandas as pd\n",
    "import numpy as np\n",
    "import matplotlib.pyplot as plt\n",
    "import math\n",
    "import csv"
   ]
  },
  {
   "cell_type": "markdown",
   "metadata": {},
   "source": [
    "# 直接读取填充缺失值后的Census-block-group-patterns数据"
   ]
  },
  {
   "cell_type": "code",
   "execution_count": 4,
   "metadata": {},
   "outputs": [],
   "source": [
    "data = pd.read_csv('E:/pycharmProject/data_visualization/fig_visit/similarity/visit-v2.csv', encoding='utf-8')"
   ]
  },
  {
   "cell_type": "code",
   "execution_count": 30,
   "metadata": {},
   "outputs": [],
   "source": [
    "def apriori(series, _minSup, _sum):\n",
    "    attr_value = []\n",
    "    attr_freq = []\n",
    "    for values, keys in zip(series.values, series.index):\n",
    "        if values / _sum >= _minSup:\n",
    "            attr_value.append([str(keys)])\n",
    "            \n",
    "            attr_freq.append(values/_sum)\n",
    "        else:\n",
    "            break\n",
    "    return attr_value, attr_freq\n",
    "\n",
    "def find_freq(key_set, _sumSup, _sum):\n",
    "    _node_list = []\n",
    "    _node_freq = []\n",
    "    tnt = 0\n",
    "    for _key in key_set:\n",
    "        if tnt % 200 == 0:\n",
    "            print(tnt)\n",
    "        tnt += 1\n",
    "        cnt = 0\n",
    "        for _item in data_list:\n",
    "            has_flag = True\n",
    "            for k in _key:\n",
    "                if k not in _item:\n",
    "                    has_flag = False\n",
    "                    break\n",
    "            if has_flag:\n",
    "                cnt += 1\n",
    "        if cnt / _sum >= _sumSup:\n",
    "            _node_list.append(_key)\n",
    "            _node_freq.append(cnt/_sum)\n",
    "    return _node_list, _node_freq"
   ]
  },
  {
   "cell_type": "markdown",
   "metadata": {},
   "source": [
    "# 把pandas数据转化为列表形式，便于关联规则挖掘"
   ]
  },
  {
   "cell_type": "code",
   "execution_count": 5,
   "metadata": {},
   "outputs": [],
   "source": [
    "data_list = data.values.tolist()"
   ]
  },
  {
   "cell_type": "markdown",
   "metadata": {},
   "source": [
    "# 找出频繁项集"
   ]
  },
  {
   "cell_type": "markdown",
   "metadata": {},
   "source": [
    "## 得到频繁一项集 "
   ]
  },
  {
   "cell_type": "code",
   "execution_count": 35,
   "metadata": {},
   "outputs": [],
   "source": [
    "data_sum = len(data_list)\n",
    "candidate_node = []\n",
    "candidate_freq = []\n",
    "all_keys = []\n",
    "all_freq = []\n",
    "minSup = 0.002"
   ]
  },
  {
   "cell_type": "code",
   "execution_count": 36,
   "metadata": {},
   "outputs": [
    {
     "name": "stdout",
     "output_type": "stream",
     "text": [
      "1  iterm frequent pattern: 59  frequent pattern has been found\n"
     ]
    }
   ],
   "source": [
    "K = 0\n",
    "_candidate_node, _candidate_node_freq = apriori(data['raw_visit_count'].value_counts(sort=True), minSup, data_sum)\n",
    "if len(_candidate_node):\n",
    "    K += 1\n",
    "all_keys = all_keys + _candidate_node\n",
    "all_freq = all_freq + _candidate_node_freq\n",
    "candidate_node = candidate_node + _candidate_node\n",
    "candidate_freq = candidate_freq + _candidate_node_freq\n",
    "\n",
    "_candidate_node, _candidate_node_freq = apriori(data['raw_visitor_count'].value_counts(sort=True), minSup, data_sum)\n",
    "if len(_candidate_node):\n",
    "    K += 1\n",
    "all_keys = all_keys + _candidate_node\n",
    "all_freq = all_freq + _candidate_node_freq\n",
    "candidate_node = candidate_node + _candidate_node\n",
    "candidate_freq = candidate_freq + _candidate_node_freq\n",
    "\n",
    "_candidate_node, _candidate_node_freq = apriori(data['distance_from_home'].value_counts(sort=True), minSup, data_sum)\n",
    "if len(_candidate_node):\n",
    "    K += 1\n",
    "all_keys = all_keys + _candidate_node\n",
    "all_freq = all_freq + _candidate_node_freq\n",
    "candidate_node = candidate_node + _candidate_node\n",
    "candidate_freq = candidate_freq + _candidate_node_freq\n",
    "\n",
    "_candidate_node, _candidate_node_freq = apriori(data['related_same_day_brand'].value_counts(sort=True), minSup, data_sum)\n",
    "if len(_candidate_node):\n",
    "    K += 1\n",
    "all_keys = all_keys + _candidate_node\n",
    "all_freq = all_freq + _candidate_node_freq\n",
    "candidate_node = candidate_node + _candidate_node\n",
    "candidate_freq = candidate_freq + _candidate_node_freq\n",
    "\n",
    "_candidate_node, _candidate_node_freq = apriori(data['related_same_month_brand'].value_counts(sort=True), minSup, data_sum)\n",
    "if len(_candidate_node):\n",
    "    K += 1\n",
    "all_keys = all_keys + _candidate_node\n",
    "all_freq = all_freq + _candidate_node_freq\n",
    "candidate_node = candidate_node + _candidate_node\n",
    "candidate_freq = candidate_freq + _candidate_node_freq\n",
    "\n",
    "_candidate_node, _candidate_node_freq = apriori(data['top_brands'].value_counts(sort=True), minSup, data_sum)\n",
    "if len(_candidate_node):\n",
    "    K += 1\n",
    "all_keys = all_keys + _candidate_node\n",
    "all_freq = all_freq + _candidate_node_freq\n",
    "candidate_node = candidate_node + _candidate_node\n",
    "candidate_freq = candidate_freq + _candidate_node_freq\n",
    "\n",
    "_candidate_node, _candidate_node_freq = apriori(data['popularity_by_hour'].value_counts(sort=True), minSup, data_sum)\n",
    "if len(_candidate_node):\n",
    "    K += 1\n",
    "all_keys = all_keys + _candidate_node\n",
    "all_freq = all_freq + _candidate_node_freq\n",
    "candidate_node = candidate_node + _candidate_node\n",
    "candidate_freq = candidate_freq + _candidate_node_freq\n",
    "\n",
    "_candidate_node, _candidate_node_freq = apriori(data['popularity_by_day'].value_counts(sort=True), minSup, data_sum)\n",
    "if len(_candidate_node):\n",
    "    K += 1\n",
    "all_keys = all_keys + _candidate_node\n",
    "all_freq = all_freq + _candidate_node_freq\n",
    "candidate_node = candidate_node + _candidate_node\n",
    "candidate_freq = candidate_freq + _candidate_node_freq\n",
    "k=1\n",
    "print(k, ' iterm frequent pattern:', len(candidate_node), ' frequent pattern has been found')"
   ]
  },
  {
   "cell_type": "markdown",
   "metadata": {},
   "source": [
    "## 使用迭代的方法求频繁k+1项集"
   ]
  },
  {
   "cell_type": "code",
   "execution_count": 37,
   "metadata": {},
   "outputs": [
    {
     "name": "stdout",
     "output_type": "stream",
     "text": [
      "2  item frequent pattern: 1485  candidate pattern has been found\n",
      "0\n",
      "200\n",
      "400\n",
      "600\n",
      "800\n",
      "1000\n",
      "1200\n",
      "1400\n",
      "2  iterm frequent pattern: 7  frequent pattern has been found\n"
     ]
    }
   ],
   "source": [
    "key_set = []\n",
    "while len(candidate_node) and k < K:\n",
    "    for i in range(len(candidate_node)):\n",
    "        for j in range(len(candidate_node)):\n",
    "            if i >=j:\n",
    "                continue\n",
    "            k_plus_1_node = list(set(candidate_node[i]+candidate_node[j]))\n",
    "            k_plus_1_node.sort()\n",
    "            if len(k_plus_1_node) == k+1 and k_plus_1_node not in key_set:  \n",
    "                key_set.append(k_plus_1_node)\n",
    "    k += 1\n",
    "    print(k, ' item frequent pattern:', len(key_set),  ' candidate pattern has been found')\n",
    "    _candidate_node, _candidate_node_freq = find_freq(key_set, minSup/5, data_sum)\n",
    "    print(k, ' iterm frequent pattern:', len(_candidate_node), ' frequent pattern has been found')\n",
    "    key_set = []\n",
    "    all_keys = all_keys + _candidate_node\n",
    "    all_freq = all_freq + _candidate_node_freq\n",
    "    candidate_node = _candidate_node"
   ]
  },
  {
   "cell_type": "markdown",
   "metadata": {},
   "source": [
    "将所有频繁项保存在E:/mining_frequent_patterns/visit/all_frequent_patterns.csv中"
   ]
  },
  {
   "cell_type": "code",
   "execution_count": 38,
   "metadata": {},
   "outputs": [
    {
     "name": "stdout",
     "output_type": "stream",
     "text": [
      "All frequent patterns\n",
      "E:/mining_frequent_patterns/visit/all_frequent_patterns.csv\n",
      "['[\"Dunkin\\' Donuts\"]'] 0.03784633932982518\n",
      "['[\"starbucks\"]'] 0.02125740496489582\n",
      "['[\"Wawa\"]'] 0.015972514945904664\n",
      "['[\"walmart\"]'] 0.015791215116779753\n",
      "['[\"mcdonalds\"]'] 0.01421843909912115\n",
      "['[\"7-Eleven US\"]'] 0.011947658739331637\n",
      "['[\"Publix Super Markets\"]'] 0.011095549542444556\n",
      "['[\"QuikTrip\"]'] 0.009237226293914219\n",
      "['[\"Kroger\"]'] 0.006372688993740623\n",
      "['[\"Chick-fil-A\"]'] 0.005837854497822136\n",
      "['[\"Chevron\"]'] 0.0054661898481160685\n",
      "['[\"Sheetz\"]'] 0.005330214976272385\n",
      "['[\"Safeway\"]'] 0.005253162548894298\n",
      "['[\"Meijer\"]'] 0.005103590189866246\n",
      "['[\"H-E-B\"]'] 0.004673003095694583\n",
      "['[\"Kwik Trip\"]'] 0.0042650784801635325\n",
      "['[\"Costco Wholesale Corp.\"]'] 0.004251480992979164\n",
      "['[\"ARCO\"]'] 0.004052051180941762\n",
      "['[\"Circle K Stores\"]'] 0.0036939840184200628\n",
      "['[\"King Soopers\"]'] 0.0035172166850232743\n",
      "['[\"Speedway\"]'] 0.003227136958423417\n",
      "['[\"Dunkin\\' Donuts\",\"Stop & Shop\"]'] 0.0030095771634735236\n",
      "['[\"Shell Oil\"]'] 0.003000512172017278\n",
      "['[\"Giant Eagle\"]'] 0.002995979676289155\n",
      "['[\"Circle K Stores\",\"QuikTrip\"]'] 0.0029551872147360503\n",
      "['[\"Wawa\",\"Dunkin\\' Donuts\"]'] 0.0028736022916298403\n",
      "['[\"Family Dollar Stores\"]'] 0.0026696399838643152\n",
      "['[\"Target\"]'] 0.002433950206001931\n",
      "['[\"mcdonalds\",\"Speedway\"]'] 0.0022979753341582474\n",
      "['[\"Tim Hortons\"]'] 0.0022209229067801602\n",
      "['[\"Holiday Station\"]'] 0.0021212080007614593\n",
      "['[\"ShopRite\"]'] 0.0020441555733833722\n",
      "['[\"United States Postal Service (USPS)\"]'] 0.05109935683885618\n",
      "['[\"Aflac (American Family Life Assurance)\"]'] 0.01088705473895091\n",
      "['[\"National Association for the Education of Young Children (NAEYC)\"]'] 0.009346006191389165\n",
      "['[\"Dollar General\"]'] 0.007814022635283666\n",
      "['[\"The American Legion\"]'] 0.00759193034460565\n",
      "['[\"Cricket Wireless\"]'] 0.007188538224802723\n",
      "['[\"Boys & Girls Clubs of America\"]'] 0.0051489151471474735\n",
      "['[\"Shell Oil\"]'] 0.005031070258216282\n",
      "['[\"VFW (Veterans of Foreign Wars)\"]'] 0.004949485335110072\n",
      "['[\"United States Postal Service (USPS)\",\"The American Legion\"]'] 0.004369325881910357\n",
      "['[\"7-Eleven US\"]'] 0.004283208463076024\n",
      "['[\"Family Dollar Stores\"]'] 0.0037982314201668865\n",
      "['[\"CITGO Petroleum\"]'] 0.00377103644579815\n",
      "['[\"Marathon Petroleum\"]'] 0.0032316694541515397\n",
      "['[\"Sunoco\"]'] 0.0030231746506578917\n",
      "['[\"Chevron\"]'] 0.002932524736095436\n",
      "['[\"SUBWAY\"]'] 0.0028010823599798756\n",
      "['[\"BP\"]'] 0.0026016525479424734\n",
      "['[\"Auto Wares\"]'] 0.0025608600863893686\n",
      "['[\"Dollar General\",\"United States Postal Service (USPS)\"]'] 0.0024883401547394044\n",
      "['[\"Mobil\"]'] 0.0024792751632831587\n",
      "['[\"Valero Energy\"]'] 0.0024158202230894397\n",
      "['[\"The American Legion\",\"United States Postal Service (USPS)\"]'] 0.002225455402508283\n",
      "['[\"CrossFit\"]'] 0.0022209229067801602\n",
      "['[\"Exxon Mobil\"]'] 0.00217106545377081\n",
      "['[\"State Farm\"]'] 0.002130272992217705\n",
      "['[\"CVS\"]'] 0.0020940130263927227\n",
      "['[\"Dunkin\\' Donuts\"]', '[\"United States Postal Service (USPS)\"]'] 0.0013914761885336923\n",
      "['[\"Dunkin\\' Donuts\"]', '[\"National Association for the Education of Young Children (NAEYC)\"]'] 0.0005212370087341192\n",
      "['[\"Cricket Wireless\"]', '[\"Dunkin\\' Donuts\"]'] 0.00042605459844354096\n",
      "['[\"United States Postal Service (USPS)\"]', '[\"starbucks\"]'] 0.0009155641370808008\n",
      "['[\"United States Postal Service (USPS)\"]', '[\"Wawa\"]'] 0.0006662768720340481\n",
      "['[\"United States Postal Service (USPS)\"]', '[\"mcdonalds\"]'] 0.0005484319831028559\n",
      "['[\"7-Eleven US\"]', '[\"United States Postal Service (USPS)\"]'] 0.0004577820685404004\n"
     ]
    }
   ],
   "source": [
    "path = 'E:/mining_frequent_patterns/visit/'\n",
    "if not os.path.exists(path):\n",
    "    os.makedirs(path)\n",
    "print('All frequent patterns')\n",
    "\n",
    "file_name = path+'all_frequent_patterns.csv'\n",
    "print(file_name)\n",
    "\n",
    "if os.path.exists(file_name):\n",
    "    f = open(path+'all_frequent_patterns.csv', 'w', newline='')\n",
    "else:\n",
    "    f = open(path+'all_frequent_patterns.csv', 'a', newline='')\n",
    "csv_writer = csv.writer(f)\n",
    "csv_writer.writerow(['pattern', 'frequency'])\n",
    "for _keys, _freq in zip(all_keys, all_freq):\n",
    "    print(_keys, _freq)\n",
    "    csv_writer.writerow([_keys, _freq])\n",
    "f.close()"
   ]
  },
  {
   "cell_type": "markdown",
   "metadata": {},
   "source": [
    "# 导出关联规则到visit/association.csv，并计算支持度和置信度"
   ]
  },
  {
   "cell_type": "code",
   "execution_count": 39,
   "metadata": {},
   "outputs": [
    {
     "name": "stdout",
     "output_type": "stream",
     "text": [
      "E:/mining_frequent_patterns/visit/association.csv\n",
      "['[\"Dunkin\\' Donuts\"]'] --> ['[\"United States Postal Service (USPS)\"]'] , confidence is  0.036766467065868266 , support is  0.0013914761885336923\n",
      "['[\"United States Postal Service (USPS)\"]'] --> ['[\"Dunkin\\' Donuts\"]'] , confidence is  0.027230796522973215 , support is  0.0013914761885336923\n",
      "['[\"Dunkin\\' Donuts\"]'] --> ['[\"National Association for the Education of Young Children (NAEYC)\"]'] , confidence is  0.013772455089820359 , support is  0.0005212370087341192\n",
      "['[\"National Association for the Education of Young Children (NAEYC)\"]'] --> ['[\"Dunkin\\' Donuts\"]'] , confidence is  0.055771096023278365 , support is  0.0005212370087341192\n",
      "['[\"Cricket Wireless\"]'] --> ['[\"Dunkin\\' Donuts\"]'] , confidence is  0.05926860025220681 , support is  0.00042605459844354096\n",
      "['[\"Dunkin\\' Donuts\"]'] --> ['[\"Cricket Wireless\"]'] , confidence is  0.01125748502994012 , support is  0.00042605459844354096\n",
      "['[\"United States Postal Service (USPS)\"]'] --> ['[\"starbucks\"]'] , confidence is  0.017917331914138728 , support is  0.0009155641370808008\n",
      "['[\"starbucks\"]'] --> ['[\"United States Postal Service (USPS)\"]'] , confidence is  0.04307036247334755 , support is  0.0009155641370808008\n",
      "['[\"United States Postal Service (USPS)\"]'] --> ['[\"Wawa\"]'] , confidence is  0.013038850452368281 , support is  0.0006662768720340481\n",
      "['[\"Wawa\"]'] --> ['[\"United States Postal Service (USPS)\"]'] , confidence is  0.041713961407491486 , support is  0.0006662768720340481\n",
      "['[\"United States Postal Service (USPS)\"]'] --> ['[\"mcdonalds\"]'] , confidence is  0.01073265921589498 , support is  0.0005484319831028559\n",
      "['[\"mcdonalds\"]'] --> ['[\"United States Postal Service (USPS)\"]'] , confidence is  0.0385718839655722 , support is  0.0005484319831028559\n",
      "['[\"7-Eleven US\"]'] --> ['[\"United States Postal Service (USPS)\"]'] , confidence is  0.10687830687830688 , support is  0.0004577820685404004\n",
      "['[\"United States Postal Service (USPS)\"]'] --> ['[\"7-Eleven US\"]'] , confidence is  0.008958665957069364 , support is  0.0004577820685404004\n"
     ]
    }
   ],
   "source": [
    "import copy\n",
    "wine_dict = {}\n",
    "file_name = path+'association.csv'\n",
    "print(file_name)\n",
    "confidence_list = []\n",
    "association_list = []\n",
    "support_list = []\n",
    "if os.path.exists(file_name):\n",
    "    f = open(path+'association.csv', 'w', newline='')\n",
    "else:\n",
    "    f = open(path+'association.csv', 'a', newline='')\n",
    "csv_writer = csv.writer(f)\n",
    "csv_writer.writerow(['key1', 'key2', 'confidence', 'support' ])\n",
    "for _keys, _freq in zip(all_keys, all_freq):\n",
    "    wine_dict[str(_keys)] = _freq\n",
    "    if len(_keys) == 1:\n",
    "        continue\n",
    "    for i in range(len(_keys)):\n",
    "        tmp_list = copy.deepcopy(_keys)\n",
    "        key1 = [_keys[i]]\n",
    "        tmp_list.remove(_keys[i])\n",
    "        key2 = tmp_list\n",
    "        if str(key1)+'-->'+str(key2) in association_list:\n",
    "            continue\n",
    "        confidence1 = _freq / wine_dict[str(key1)]\n",
    "        print(key1, '-->', key2, ', confidence is ', confidence1, ', support is ', _freq)\n",
    "        confidence_list.append(confidence1)\n",
    "        association_list.append(str(key1)+'-->'+str(key2))\n",
    "        support_list.append(_freq)\n",
    "        csv_writer.writerow([key1, key2, confidence1,  _freq])\n",
    "f.close()"
   ]
  },
  {
   "cell_type": "markdown",
   "metadata": {},
   "source": [
    "# 对规则进行评价和分析"
   ]
  },
  {
   "cell_type": "markdown",
   "metadata": {},
   "source": [
    "## 使用Lift规则对关联关系进行评价和分析 "
   ]
  },
  {
   "cell_type": "markdown",
   "metadata": {},
   "source": [
    "结果保存在visit/evaluation.csv中"
   ]
  },
  {
   "cell_type": "code",
   "execution_count": 40,
   "metadata": {},
   "outputs": [
    {
     "name": "stdout",
     "output_type": "stream",
     "text": [
      "E:/mining_frequent_patterns/visit/evaluation.csv\n",
      "['[\"Dunkin\\' Donuts\"]'] --> ['[\"United States Postal Service (USPS)\"]'] , lift is  0.7195093899481506\n",
      "['[\"United States Postal Service (USPS)\"]'] --> ['[\"Dunkin\\' Donuts\"]'] , lift is  0.7195093899481506\n",
      "['[\"Dunkin\\' Donuts\"]'] --> ['[\"National Association for the Education of Young Children (NAEYC)\"]'] , lift is  1.4736192987448962\n",
      "['[\"National Association for the Education of Young Children (NAEYC)\"]'] --> ['[\"Dunkin\\' Donuts\"]'] , lift is  1.4736192987448962\n",
      "['[\"Cricket Wireless\"]'] --> ['[\"Dunkin\\' Donuts\"]'] , lift is  1.5660325754543876\n",
      "['[\"Dunkin\\' Donuts\"]'] --> ['[\"Cricket Wireless\"]'] , lift is  1.5660325754543876\n",
      "['[\"United States Postal Service (USPS)\"]'] --> ['[\"starbucks\"]'] , lift is  0.842874844964715\n",
      "['[\"starbucks\"]'] --> ['[\"United States Postal Service (USPS)\"]'] , lift is  0.842874844964715\n",
      "['[\"United States Postal Service (USPS)\"]'] --> ['[\"Wawa\"]'] , lift is  0.816330458699081\n",
      "['[\"Wawa\"]'] --> ['[\"United States Postal Service (USPS)\"]'] , lift is  0.816330458699081\n",
      "['[\"United States Postal Service (USPS)\"]'] --> ['[\"mcdonalds\"]'] , lift is  0.7548408894305685\n",
      "['[\"mcdonalds\"]'] --> ['[\"United States Postal Service (USPS)\"]'] , lift is  0.7548408894305685\n",
      "['[\"7-Eleven US\"]'] --> ['[\"United States Postal Service (USPS)\"]'] , lift is  2.0915783189865147\n",
      "['[\"United States Postal Service (USPS)\"]'] --> ['[\"7-Eleven US\"]'] , lift is  2.0915783189865147\n"
     ]
    }
   ],
   "source": [
    "file_name = path+'evaluation.csv'\n",
    "print(file_name)\n",
    "if os.path.exists(file_name):\n",
    "    f = open(path+'evaluation.csv', 'w', newline='')\n",
    "else:\n",
    "    f = open(path+'evaluation.csv', 'a', newline='')\n",
    "csv_writer = csv.writer(f)\n",
    "csv_writer.writerow(['Lift evaluation'])\n",
    "csv_writer.writerow(['key1', 'key2', 'lift' ])\n",
    "lift_list = []\n",
    "lift_name = []\n",
    "for _keys, _freq in zip(all_keys, all_freq):\n",
    "    if len(_keys) == 1:\n",
    "        continue\n",
    "    for i in range(len(_keys)):\n",
    "        tmp_list = copy.deepcopy(_keys)\n",
    "        key1 = [_keys[i]]\n",
    "        tmp_list.remove(_keys[i])\n",
    "        tmp_list.sort()\n",
    "        key2 = tmp_list\n",
    "        if str(key1)+\"-->\"+str(key2) in lift_name:\n",
    "            continue\n",
    "        lift = _freq / wine_dict[str(key1)] / wine_dict[str(key2)]  \n",
    "        print(key1, '-->', key2, ', lift is ', lift)\n",
    "        lift_name.append(str(key1)+\"-->\"+str(key2))\n",
    "        lift_list.append(lift)\n",
    "        csv_writer.writerow([str(key1)+\"-->\"+str(key2), lift])"
   ]
  },
  {
   "cell_type": "code",
   "execution_count": 41,
   "metadata": {},
   "outputs": [
    {
     "name": "stdout",
     "output_type": "stream",
     "text": [
      "['[\"United States Postal Service (USPS)\"]']-->['[\"7-Eleven US\"]']  lift is  2.0915783189865147\n",
      "['[\"7-Eleven US\"]']-->['[\"United States Postal Service (USPS)\"]']  lift is  2.0915783189865147\n",
      "['[\"Dunkin\\' Donuts\"]']-->['[\"Cricket Wireless\"]']  lift is  1.5660325754543876\n",
      "['[\"Cricket Wireless\"]']-->['[\"Dunkin\\' Donuts\"]']  lift is  1.5660325754543876\n",
      "['[\"National Association for the Education of Young Children (NAEYC)\"]']-->['[\"Dunkin\\' Donuts\"]']  lift is  1.4736192987448962\n",
      "['[\"Dunkin\\' Donuts\"]']-->['[\"National Association for the Education of Young Children (NAEYC)\"]']  lift is  1.4736192987448962\n"
     ]
    }
   ],
   "source": [
    "indexes = np.argsort(lift_list)\n",
    "indexes = list(reversed(indexes))\n",
    "for i in range(6):\n",
    "    _index = indexes[i]\n",
    "    print(lift_name[_index], ' lift is ', lift_list[_index])"
   ]
  },
  {
   "cell_type": "markdown",
   "metadata": {},
   "source": [
    "输出前六位的关联关系，分别是：\n",
    "\n",
    "['[\"United States Postal Service (USPS)\"]']-->['[\"7-Eleven US\"]']\n",
    "\n",
    "['[\"7-Eleven US\"]']-->['[\"United States Postal Service (USPS)\"]']\n",
    "\n",
    "['[\"Dunkin\\' Donuts\"]']-->['[\"Cricket Wireless\"]']\n",
    "\n",
    "['[\"Cricket Wireless\"]']-->['[\"Dunkin\\' Donuts\"]']\n",
    "\n",
    "['[\"National Association for the Education of Young Children (NAEYC)\"]']-->['[\"Dunkin\\' Donuts\"]']\n",
    "\n",
    "['[\"Dunkin\\' Donuts\"]']-->['[\"National Association for the Education of Young Children (NAEYC)\"]']\n",
    "\n",
    "其lift值分别为2.09, 2.09, 1.57, 1.57, 1.47, 1.47\n",
    "\n",
    "[\"United States Postal Service (USPS)\"]是top_brands\n",
    "\n",
    "[\"7-Eleven US\"]是related_same_day_brand\n",
    "\n",
    "[\"Dunkin\\' Donuts\"]是top_brands\n",
    "\n",
    "[\"Cricket Wireless\"]是related_same_day_brand\n",
    "\n",
    "[\"National Association for the Education of Young Children (NAEYC)\"]是top_brands\n",
    "\n",
    "可以看出，这些关系都是top_brands和related_same_day_brand之间的关系。对于第一条规则，United States Postal Service (USPS)（邮局）和7-Eleven US（便利店）联系较深，可以分析出，可能便利店在邮局的旁边，因此，人们要先去便利店买邮票，再去邮局寄东西。\n",
    "\n",
    "而Cricket Wireless（网络经销商）和Dunkin' Donuts（咖啡和烘焙食品连锁品牌）相关联，可能是因为，去Cricket Wireless喜欢顺手在他的旁边要一杯咖啡，等候经销商的服务。"
   ]
  },
  {
   "cell_type": "markdown",
   "metadata": {},
   "source": [
    "## 使用Cosine规则对关联关系进行评价和分析"
   ]
  },
  {
   "cell_type": "markdown",
   "metadata": {},
   "source": [
    "结果保存在visit/evaluation.csv中"
   ]
  },
  {
   "cell_type": "code",
   "execution_count": 43,
   "metadata": {},
   "outputs": [
    {
     "name": "stdout",
     "output_type": "stream",
     "text": [
      "['[\"Dunkin\\' Donuts\"]'] --> ['[\"United States Postal Service (USPS)\"]'] , cosine is  0.031641431439479076\n",
      "['[\"United States Postal Service (USPS)\"]'] --> ['[\"Dunkin\\' Donuts\"]'] , cosine is  0.031641431439479076\n",
      "['[\"Dunkin\\' Donuts\"]'] --> ['[\"National Association for the Education of Young Children (NAEYC)\"]'] , cosine is  0.02771470575868812\n",
      "['[\"National Association for the Education of Young Children (NAEYC)\"]'] --> ['[\"Dunkin\\' Donuts\"]'] , cosine is  0.02771470575868812\n",
      "['[\"Cricket Wireless\"]'] --> ['[\"Dunkin\\' Donuts\"]'] , cosine is  0.02583051257882281\n",
      "['[\"Dunkin\\' Donuts\"]'] --> ['[\"Cricket Wireless\"]'] , cosine is  0.02583051257882281\n",
      "['[\"United States Postal Service (USPS)\"]'] --> ['[\"starbucks\"]'] , cosine is  0.027779596471101467\n",
      "['[\"starbucks\"]'] --> ['[\"United States Postal Service (USPS)\"]'] , cosine is  0.027779596471101467\n",
      "['[\"United States Postal Service (USPS)\"]'] --> ['[\"Wawa\"]'] , cosine is  0.023321708868951765\n",
      "['[\"Wawa\"]'] --> ['[\"United States Postal Service (USPS)\"]'] , cosine is  0.023321708868951765\n",
      "['[\"United States Postal Service (USPS)\"]'] --> ['[\"mcdonalds\"]'] , cosine is  0.020346471092489975\n",
      "['[\"mcdonalds\"]'] --> ['[\"United States Postal Service (USPS)\"]'] , cosine is  0.020346471092489975\n",
      "['[\"7-Eleven US\"]'] --> ['[\"United States Postal Service (USPS)\"]'] , cosine is  0.030943287630436106\n",
      "['[\"United States Postal Service (USPS)\"]'] --> ['[\"7-Eleven US\"]'] , cosine is  0.030943287630436106\n"
     ]
    }
   ],
   "source": [
    "csv_writer.writerow(['Cosine evaluation'])\n",
    "csv_writer.writerow(['key1', 'key2', 'cosine' ])\n",
    "cos_list = []\n",
    "cos_name = []\n",
    "for _keys, _freq in zip(all_keys, all_freq):\n",
    "    if len(_keys) == 1:\n",
    "        continue\n",
    "    for i in range(len(_keys)):\n",
    "        tmp_list = copy.deepcopy(_keys)\n",
    "        key1 = [_keys[i]]\n",
    "        tmp_list.remove(_keys[i])\n",
    "        tmp_list.sort()\n",
    "        key2 = tmp_list\n",
    "        if str(key1)+\"-->\"+str(key2) in cos_name:\n",
    "            continue\n",
    "        cos = _freq / np.sqrt(wine_dict[str(key1)]*wine_dict[str(key2)])  \n",
    "        print(key1, '-->', key2, ', cosine is ', cos)\n",
    "        cos_name.append(str(key1)+\"-->\"+str(key2))\n",
    "        cos_list.append(cos)\n",
    "        csv_writer.writerow([str(key1)+\"-->\"+str(key2), cos])\n",
    "f.close()"
   ]
  },
  {
   "cell_type": "code",
   "execution_count": 44,
   "metadata": {},
   "outputs": [
    {
     "name": "stdout",
     "output_type": "stream",
     "text": [
      "['[\"United States Postal Service (USPS)\"]']-->['[\"Dunkin\\' Donuts\"]']  cosine is  0.031641431439479076\n",
      "['[\"Dunkin\\' Donuts\"]']-->['[\"United States Postal Service (USPS)\"]']  cosine is  0.031641431439479076\n",
      "['[\"United States Postal Service (USPS)\"]']-->['[\"7-Eleven US\"]']  cosine is  0.030943287630436106\n",
      "['[\"7-Eleven US\"]']-->['[\"United States Postal Service (USPS)\"]']  cosine is  0.030943287630436106\n",
      "['[\"starbucks\"]']-->['[\"United States Postal Service (USPS)\"]']  cosine is  0.027779596471101467\n",
      "['[\"United States Postal Service (USPS)\"]']-->['[\"starbucks\"]']  cosine is  0.027779596471101467\n"
     ]
    }
   ],
   "source": [
    "indexes = np.argsort(cos_list)\n",
    "indexes = list(reversed(indexes))\n",
    "for i in range(6):\n",
    "    _index = indexes[i]\n",
    "    print(cos_name[_index], ' cosine is ', cos_list[_index])"
   ]
  },
  {
   "cell_type": "markdown",
   "metadata": {},
   "source": [
    "输出前6位的关联关系，分别为：\n",
    "['[\"United States Postal Service (USPS)\"]']-->['[\"Dunkin\\' Donuts\"]']\n",
    "\n",
    "['[\"Dunkin\\' Donuts\"]']-->['[\"United States Postal Service (USPS)\"]']\n",
    "\n",
    "['[\"United States Postal Service (USPS)\"]']-->['[\"7-Eleven US\"]']\n",
    "\n",
    "['[\"7-Eleven US\"]']-->['[\"United States Postal Service (USPS)\"]']\n",
    "\n",
    "['[\"starbucks\"]']-->['[\"United States Postal Service (USPS)\"]']\n",
    "\n",
    "['[\"United States Postal Service (USPS)\"]']-->['[\"starbucks\"]']\n",
    "\n",
    "其cosine值分别为 0.032,0.032， 0.031, 0.031, 0.028, 0.028。和使用lift值进行分析相似，都是top_brands和related_same_day_brand之间的联系。上文已经分析，不再赘述。"
   ]
  },
  {
   "cell_type": "markdown",
   "metadata": {},
   "source": [
    "# 可视化展示"
   ]
  },
  {
   "cell_type": "code",
   "execution_count": 47,
   "metadata": {},
   "outputs": [
    {
     "data": {
      "image/png": "[encoded data removed]",
      "text/plain": [
       "<Figure size 432x288 with 2 Axes>"
      ]
     },
     "metadata": {
      "needs_background": "light"
     },
     "output_type": "display_data"
    },
    {
     "data": {
      "image/png": "[encoded data removed]",
      "text/plain": [
       "<Figure size 432x288 with 2 Axes>"
      ]
     },
     "metadata": {
      "needs_background": "light"
     },
     "output_type": "display_data"
    },
    {
     "data": {
      "image/png": "[encoded data removed]",
      "text/plain": [
       "<Figure size 432x288 with 2 Axes>"
      ]
     },
     "metadata": {
      "needs_background": "light"
     },
     "output_type": "display_data"
    },
    {
     "data": {
      "image/png": "[encoded data removed]",
      "text/plain": [
       "<Figure size 432x288 with 2 Axes>"
      ]
     },
     "metadata": {
      "needs_background": "light"
     },
     "output_type": "display_data"
    }
   ],
   "source": [
    "def my_plot(_num_data, _title):\n",
    "    plt.clf()\n",
    "    plt.subplot(121)\n",
    "    plt.hist(_num_data, bins=10, density=0, facecolor=\"blue\", edgecolor=\"black\", alpha=0.7)\n",
    "    plt.title('Histogram for '+_title)\n",
    "    plt.grid(axis='y', linestyle='--')\n",
    "    plt.tight_layout()\n",
    "    \n",
    "    plt.subplot(122)\n",
    "    plt.boxplot(_num_data, notch=False, sym='o', vert=True)\n",
    "    plt.title('Box for '+_title)\n",
    "    plt.grid(axis='y', linestyle='--')\n",
    "    plt.tight_layout()\n",
    "    plt.show()\n",
    "#     plt.savefig(path + _title + '.jpg')\n",
    "my_plot(confidence_list, 'confidence')\n",
    "my_plot(support_list, 'support')\n",
    "my_plot(lift_list, 'lift')\n",
    "my_plot(cos_list, 'cosine')"
   ]
  },
  {
   "cell_type": "code",
   "execution_count": null,
   "metadata": {},
   "outputs": [],
   "source": []
  }
 ],
 "metadata": {
  "kernelspec": {
   "display_name": "Python 3",
   "language": "python",
   "name": "python3"
  },
  "language_info": {
   "codemirror_mode": {
    "name": "ipython",
    "version": 3
   },
   "file_extension": ".py",
   "mimetype": "text/x-python",
   "name": "python",
   "nbconvert_exporter": "python",
   "pygments_lexer": "ipython3",
   "version": "3.7.6"
  }
 },
 "nbformat": 4,
 "nbformat_minor": 4
}
